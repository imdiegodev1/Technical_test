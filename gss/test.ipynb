{
 "cells": [
  {
   "cell_type": "markdown",
   "id": "ab310d63",
   "metadata": {},
   "source": [
    "# Prueba técnica GSS"
   ]
  },
  {
   "cell_type": "markdown",
   "id": "0b792ad4",
   "metadata": {},
   "source": [
    "La prueba no define ningún dataset para trabajar. Por esta razon asumi la existencia del siguiente grupo de datos:"
   ]
  },
  {
   "cell_type": "markdown",
   "id": "f8daaa48",
   "metadata": {},
   "source": [
    "![data distribution](./data.png)"
   ]
  },
  {
   "cell_type": "markdown",
   "id": "97fb9743",
   "metadata": {},
   "source": [
    "Estos datos son generados de forma aleatorea con https://mockaroo.com/. Al usar la version gratuita solo se pueden generar hasta 1000 registros. Para propositos prácticos se descargaron 5 diferentes datasets para elaborar un modelo."
   ]
  },
  {
   "cell_type": "markdown",
   "id": "6e3dd2f5",
   "metadata": {},
   "source": [
    "Es claro que para el proceso de ciencia de datos hay diferentes pasos a seguir previos a la construcción del modelo. Algunos pasos importantes como definición de outliers, iltrado de datos y feature engineering seran oviados en este proceso debido a la falta del conocimiento del problema. Sin embargo, teniendo en cuenta los siguientes objetivos:\n",
    "\n",
    "- Crear un modelo para definir cuando se generará un evento\n",
    "- Crear un modelo para definir donde sera el proximo evento\n",
    "\n",
    "Se desarrollaran los siguientes pasos:\n",
    "\n",
    "- Consolidación de bases de datos (todas en el periodo de 01-07-2021 al 31-12-2021)\n",
    "- Definición de eventos\n",
    "- Análisis teorico del modelo a utilizar\n",
    "- Uso de la herramienta de autoML PyCaret para definir el modelo a utilizar\n",
    "- Desarrollo modelo utilizando sklearn"
   ]
  },
  {
   "cell_type": "markdown",
   "id": "57d079ae",
   "metadata": {},
   "source": [
    "## Consolidar bases de datos"
   ]
  },
  {
   "cell_type": "code",
   "execution_count": 1,
   "id": "44fecb3e",
   "metadata": {},
   "outputs": [],
   "source": [
    "import pandas as pd"
   ]
  },
  {
   "cell_type": "markdown",
   "id": "393a7720",
   "metadata": {},
   "source": [
    "Leer bases de datos"
   ]
  },
  {
   "cell_type": "code",
   "execution_count": 2,
   "id": "24978faf",
   "metadata": {},
   "outputs": [],
   "source": [
    "df1 = pd.read_csv(r'C:\\Users\\diego\\Study\\prueba-tecnica\\gss\\data\\df1.csv')\n",
    "df2 = pd.read_csv(r'C:\\Users\\diego\\Study\\prueba-tecnica\\gss\\data\\df2.csv')\n",
    "df3 = pd.read_csv(r'C:\\Users\\diego\\Study\\prueba-tecnica\\gss\\data\\df3.csv')\n",
    "df4 = pd.read_csv(r'C:\\Users\\diego\\Study\\prueba-tecnica\\gss\\data\\df4.csv')\n",
    "df5 = pd.read_csv(r'C:\\Users\\diego\\Study\\prueba-tecnica\\gss\\data\\df5.csv')"
   ]
  },
  {
   "cell_type": "markdown",
   "id": "5c5bd346",
   "metadata": {},
   "source": [
    "consolidar dataframes"
   ]
  },
  {
   "cell_type": "code",
   "execution_count": 3,
   "id": "03b5d6a5",
   "metadata": {},
   "outputs": [
    {
     "data": {
      "text/html": [
       "<div>\n",
       "<style scoped>\n",
       "    .dataframe tbody tr th:only-of-type {\n",
       "        vertical-align: middle;\n",
       "    }\n",
       "\n",
       "    .dataframe tbody tr th {\n",
       "        vertical-align: top;\n",
       "    }\n",
       "\n",
       "    .dataframe thead th {\n",
       "        text-align: right;\n",
       "    }\n",
       "</style>\n",
       "<table border=\"1\" class=\"dataframe\">\n",
       "  <thead>\n",
       "    <tr style=\"text-align: right;\">\n",
       "      <th></th>\n",
       "      <th>id</th>\n",
       "      <th>fecha_evento</th>\n",
       "      <th>planeado</th>\n",
       "      <th>evento</th>\n",
       "      <th>lugar</th>\n",
       "      <th>intrusion</th>\n",
       "    </tr>\n",
       "  </thead>\n",
       "  <tbody>\n",
       "    <tr>\n",
       "      <th>0</th>\n",
       "      <td>1</td>\n",
       "      <td>12/27/2021</td>\n",
       "      <td>False</td>\n",
       "      <td>Zulu November Romeo Hotel Lima Charlie Juliett...</td>\n",
       "      <td>AF</td>\n",
       "      <td>True</td>\n",
       "    </tr>\n",
       "    <tr>\n",
       "      <th>1</th>\n",
       "      <td>2</td>\n",
       "      <td>8/6/2021</td>\n",
       "      <td>False</td>\n",
       "      <td>Juliett Kilo Charlie Foxtrot Echo Delta Alfa H...</td>\n",
       "      <td>NaN</td>\n",
       "      <td>False</td>\n",
       "    </tr>\n",
       "    <tr>\n",
       "      <th>2</th>\n",
       "      <td>3</td>\n",
       "      <td>12/24/2021</td>\n",
       "      <td>False</td>\n",
       "      <td>Delta Quebec Papa Foxtrot Juliett Mike Charlie...</td>\n",
       "      <td>SA</td>\n",
       "      <td>False</td>\n",
       "    </tr>\n",
       "    <tr>\n",
       "      <th>3</th>\n",
       "      <td>4</td>\n",
       "      <td>12/23/2021</td>\n",
       "      <td>True</td>\n",
       "      <td>Papa Kilo Uniform Echo Yankee Juliett Romeo Li...</td>\n",
       "      <td>EU</td>\n",
       "      <td>False</td>\n",
       "    </tr>\n",
       "    <tr>\n",
       "      <th>4</th>\n",
       "      <td>5</td>\n",
       "      <td>9/9/2021</td>\n",
       "      <td>False</td>\n",
       "      <td>Papa Tango Quebec Alfa X-ray Lima Bravo Unifor...</td>\n",
       "      <td>OC</td>\n",
       "      <td>True</td>\n",
       "    </tr>\n",
       "    <tr>\n",
       "      <th>...</th>\n",
       "      <td>...</td>\n",
       "      <td>...</td>\n",
       "      <td>...</td>\n",
       "      <td>...</td>\n",
       "      <td>...</td>\n",
       "      <td>...</td>\n",
       "    </tr>\n",
       "    <tr>\n",
       "      <th>995</th>\n",
       "      <td>996</td>\n",
       "      <td>9/10/2021</td>\n",
       "      <td>False</td>\n",
       "      <td>Foxtrot Delta X-ray Romeo Papa Golf Tango Yank...</td>\n",
       "      <td>NaN</td>\n",
       "      <td>False</td>\n",
       "    </tr>\n",
       "    <tr>\n",
       "      <th>996</th>\n",
       "      <td>997</td>\n",
       "      <td>10/31/2021</td>\n",
       "      <td>False</td>\n",
       "      <td>Tango Zulu Kilo X-ray Bravo Hotel Golf Novembe...</td>\n",
       "      <td>AS</td>\n",
       "      <td>True</td>\n",
       "    </tr>\n",
       "    <tr>\n",
       "      <th>997</th>\n",
       "      <td>998</td>\n",
       "      <td>7/5/2021</td>\n",
       "      <td>False</td>\n",
       "      <td>Zulu Charlie Whiskey Oscar Victor Quebec Sierr...</td>\n",
       "      <td>EU</td>\n",
       "      <td>True</td>\n",
       "    </tr>\n",
       "    <tr>\n",
       "      <th>998</th>\n",
       "      <td>999</td>\n",
       "      <td>12/4/2021</td>\n",
       "      <td>True</td>\n",
       "      <td>Uniform Oscar November Tango Hotel Golf Romeo ...</td>\n",
       "      <td>SA</td>\n",
       "      <td>True</td>\n",
       "    </tr>\n",
       "    <tr>\n",
       "      <th>999</th>\n",
       "      <td>1000</td>\n",
       "      <td>11/16/2021</td>\n",
       "      <td>False</td>\n",
       "      <td>Delta Golf Victor November Juliett Alfa Papa L...</td>\n",
       "      <td>OC</td>\n",
       "      <td>True</td>\n",
       "    </tr>\n",
       "  </tbody>\n",
       "</table>\n",
       "<p>6000 rows × 6 columns</p>\n",
       "</div>"
      ],
      "text/plain": [
       "       id fecha_evento  planeado  \\\n",
       "0       1   12/27/2021     False   \n",
       "1       2     8/6/2021     False   \n",
       "2       3   12/24/2021     False   \n",
       "3       4   12/23/2021      True   \n",
       "4       5     9/9/2021     False   \n",
       "..    ...          ...       ...   \n",
       "995   996    9/10/2021     False   \n",
       "996   997   10/31/2021     False   \n",
       "997   998     7/5/2021     False   \n",
       "998   999    12/4/2021      True   \n",
       "999  1000   11/16/2021     False   \n",
       "\n",
       "                                                evento lugar  intrusion  \n",
       "0    Zulu November Romeo Hotel Lima Charlie Juliett...    AF       True  \n",
       "1    Juliett Kilo Charlie Foxtrot Echo Delta Alfa H...   NaN      False  \n",
       "2    Delta Quebec Papa Foxtrot Juliett Mike Charlie...    SA      False  \n",
       "3    Papa Kilo Uniform Echo Yankee Juliett Romeo Li...    EU      False  \n",
       "4    Papa Tango Quebec Alfa X-ray Lima Bravo Unifor...    OC       True  \n",
       "..                                                 ...   ...        ...  \n",
       "995  Foxtrot Delta X-ray Romeo Papa Golf Tango Yank...   NaN      False  \n",
       "996  Tango Zulu Kilo X-ray Bravo Hotel Golf Novembe...    AS       True  \n",
       "997  Zulu Charlie Whiskey Oscar Victor Quebec Sierr...    EU       True  \n",
       "998  Uniform Oscar November Tango Hotel Golf Romeo ...    SA       True  \n",
       "999  Delta Golf Victor November Juliett Alfa Papa L...    OC       True  \n",
       "\n",
       "[6000 rows x 6 columns]"
      ]
     },
     "execution_count": 3,
     "metadata": {},
     "output_type": "execute_result"
    }
   ],
   "source": [
    "df = pd.concat([df1, df2, df2, df3, df4, df5])\n",
    "df"
   ]
  },
  {
   "cell_type": "markdown",
   "id": "dc5fd859",
   "metadata": {},
   "source": [
    "Evaluar campos"
   ]
  },
  {
   "cell_type": "code",
   "execution_count": 4,
   "id": "9bf67baf",
   "metadata": {},
   "outputs": [
    {
     "name": "stdout",
     "output_type": "stream",
     "text": [
      "<class 'pandas.core.frame.DataFrame'>\n",
      "Int64Index: 6000 entries, 0 to 999\n",
      "Data columns (total 6 columns):\n",
      " #   Column        Non-Null Count  Dtype \n",
      "---  ------        --------------  ----- \n",
      " 0   id            6000 non-null   int64 \n",
      " 1   fecha_evento  6000 non-null   object\n",
      " 2   planeado      6000 non-null   bool  \n",
      " 3   evento        6000 non-null   object\n",
      " 4   lugar         4067 non-null   object\n",
      " 5   intrusion     6000 non-null   bool  \n",
      "dtypes: bool(2), int64(1), object(3)\n",
      "memory usage: 246.1+ KB\n"
     ]
    }
   ],
   "source": [
    "df.info()"
   ]
  },
  {
   "cell_type": "markdown",
   "id": "b383d9b1",
   "metadata": {},
   "source": [
    "Hay cerca de 933 lugares sin un registro. Siguiendo el princicipio \"Garbage in arbage out\" los valores nulos se eliminaran de la tabla."
   ]
  },
  {
   "cell_type": "code",
   "execution_count": 5,
   "id": "14773146",
   "metadata": {},
   "outputs": [
    {
     "data": {
      "text/html": [
       "<div>\n",
       "<style scoped>\n",
       "    .dataframe tbody tr th:only-of-type {\n",
       "        vertical-align: middle;\n",
       "    }\n",
       "\n",
       "    .dataframe tbody tr th {\n",
       "        vertical-align: top;\n",
       "    }\n",
       "\n",
       "    .dataframe thead th {\n",
       "        text-align: right;\n",
       "    }\n",
       "</style>\n",
       "<table border=\"1\" class=\"dataframe\">\n",
       "  <thead>\n",
       "    <tr style=\"text-align: right;\">\n",
       "      <th></th>\n",
       "      <th>id</th>\n",
       "      <th>fecha_evento</th>\n",
       "      <th>planeado</th>\n",
       "      <th>evento</th>\n",
       "      <th>lugar</th>\n",
       "      <th>intrusion</th>\n",
       "    </tr>\n",
       "  </thead>\n",
       "  <tbody>\n",
       "    <tr>\n",
       "      <th>0</th>\n",
       "      <td>1</td>\n",
       "      <td>12/27/2021</td>\n",
       "      <td>False</td>\n",
       "      <td>Zulu November Romeo Hotel Lima Charlie Juliett...</td>\n",
       "      <td>AF</td>\n",
       "      <td>True</td>\n",
       "    </tr>\n",
       "    <tr>\n",
       "      <th>2</th>\n",
       "      <td>3</td>\n",
       "      <td>12/24/2021</td>\n",
       "      <td>False</td>\n",
       "      <td>Delta Quebec Papa Foxtrot Juliett Mike Charlie...</td>\n",
       "      <td>SA</td>\n",
       "      <td>False</td>\n",
       "    </tr>\n",
       "    <tr>\n",
       "      <th>3</th>\n",
       "      <td>4</td>\n",
       "      <td>12/23/2021</td>\n",
       "      <td>True</td>\n",
       "      <td>Papa Kilo Uniform Echo Yankee Juliett Romeo Li...</td>\n",
       "      <td>EU</td>\n",
       "      <td>False</td>\n",
       "    </tr>\n",
       "    <tr>\n",
       "      <th>4</th>\n",
       "      <td>5</td>\n",
       "      <td>9/9/2021</td>\n",
       "      <td>False</td>\n",
       "      <td>Papa Tango Quebec Alfa X-ray Lima Bravo Unifor...</td>\n",
       "      <td>OC</td>\n",
       "      <td>True</td>\n",
       "    </tr>\n",
       "    <tr>\n",
       "      <th>6</th>\n",
       "      <td>7</td>\n",
       "      <td>12/29/2021</td>\n",
       "      <td>True</td>\n",
       "      <td>Lima X-ray Romeo Foxtrot Victor Zulu Oscar Hot...</td>\n",
       "      <td>AS</td>\n",
       "      <td>True</td>\n",
       "    </tr>\n",
       "  </tbody>\n",
       "</table>\n",
       "</div>"
      ],
      "text/plain": [
       "   id fecha_evento  planeado  \\\n",
       "0   1   12/27/2021     False   \n",
       "2   3   12/24/2021     False   \n",
       "3   4   12/23/2021      True   \n",
       "4   5     9/9/2021     False   \n",
       "6   7   12/29/2021      True   \n",
       "\n",
       "                                              evento lugar  intrusion  \n",
       "0  Zulu November Romeo Hotel Lima Charlie Juliett...    AF       True  \n",
       "2  Delta Quebec Papa Foxtrot Juliett Mike Charlie...    SA      False  \n",
       "3  Papa Kilo Uniform Echo Yankee Juliett Romeo Li...    EU      False  \n",
       "4  Papa Tango Quebec Alfa X-ray Lima Bravo Unifor...    OC       True  \n",
       "6  Lima X-ray Romeo Foxtrot Victor Zulu Oscar Hot...    AS       True  "
      ]
     },
     "execution_count": 5,
     "metadata": {},
     "output_type": "execute_result"
    }
   ],
   "source": [
    "df = df.dropna()\n",
    "df.head()"
   ]
  },
  {
   "cell_type": "code",
   "execution_count": 6,
   "id": "7e8e283b",
   "metadata": {},
   "outputs": [
    {
     "name": "stdout",
     "output_type": "stream",
     "text": [
      "<class 'pandas.core.frame.DataFrame'>\n",
      "Int64Index: 4067 entries, 0 to 999\n",
      "Data columns (total 6 columns):\n",
      " #   Column        Non-Null Count  Dtype \n",
      "---  ------        --------------  ----- \n",
      " 0   id            4067 non-null   int64 \n",
      " 1   fecha_evento  4067 non-null   object\n",
      " 2   planeado      4067 non-null   bool  \n",
      " 3   evento        4067 non-null   object\n",
      " 4   lugar         4067 non-null   object\n",
      " 5   intrusion     4067 non-null   bool  \n",
      "dtypes: bool(2), int64(1), object(3)\n",
      "memory usage: 166.8+ KB\n"
     ]
    }
   ],
   "source": [
    "df.info()"
   ]
  },
  {
   "cell_type": "markdown",
   "id": "ad4fcb9c",
   "metadata": {},
   "source": [
    "## Definición de eventos"
   ]
  },
  {
   "cell_type": "markdown",
   "id": "6e03f7aa",
   "metadata": {},
   "source": [
    "Para definir el evento simplemente generé en mockaroo un campo con palabras random del alfabeto fonetico Nato. Con la primera letra de este campo puedo cruzar con una tabla donde relaciono cada letra del alfabeto con un evento descrito en la prueba.\n",
    "\n",
    "tabla letras y eventos:"
   ]
  },
  {
   "cell_type": "code",
   "execution_count": 7,
   "id": "d200736b",
   "metadata": {},
   "outputs": [
    {
     "data": {
      "text/html": [
       "<div>\n",
       "<style scoped>\n",
       "    .dataframe tbody tr th:only-of-type {\n",
       "        vertical-align: middle;\n",
       "    }\n",
       "\n",
       "    .dataframe tbody tr th {\n",
       "        vertical-align: top;\n",
       "    }\n",
       "\n",
       "    .dataframe thead th {\n",
       "        text-align: right;\n",
       "    }\n",
       "</style>\n",
       "<table border=\"1\" class=\"dataframe\">\n",
       "  <thead>\n",
       "    <tr style=\"text-align: right;\">\n",
       "      <th></th>\n",
       "      <th>nato</th>\n",
       "      <th>evento</th>\n",
       "    </tr>\n",
       "  </thead>\n",
       "  <tbody>\n",
       "    <tr>\n",
       "      <th>0</th>\n",
       "      <td>A</td>\n",
       "      <td>sistema proteccion</td>\n",
       "    </tr>\n",
       "    <tr>\n",
       "      <th>1</th>\n",
       "      <td>B</td>\n",
       "      <td>pin insertado incorrecto</td>\n",
       "    </tr>\n",
       "    <tr>\n",
       "      <th>2</th>\n",
       "      <td>C</td>\n",
       "      <td>pin insertado sin agendamiento</td>\n",
       "    </tr>\n",
       "    <tr>\n",
       "      <th>3</th>\n",
       "      <td>D</td>\n",
       "      <td>armado sistema fallido</td>\n",
       "    </tr>\n",
       "    <tr>\n",
       "      <th>4</th>\n",
       "      <td>E</td>\n",
       "      <td>puerta gateway abierta</td>\n",
       "    </tr>\n",
       "  </tbody>\n",
       "</table>\n",
       "</div>"
      ],
      "text/plain": [
       "  nato                          evento\n",
       "0    A              sistema proteccion\n",
       "1    B        pin insertado incorrecto\n",
       "2    C  pin insertado sin agendamiento\n",
       "3    D          armado sistema fallido\n",
       "4    E          puerta gateway abierta"
      ]
     },
     "execution_count": 7,
     "metadata": {},
     "output_type": "execute_result"
    }
   ],
   "source": [
    "df_eventos = pd.read_excel(r'C:\\Users\\diego\\Study\\prueba-tecnica\\gss\\eventos.xlsx')\n",
    "df_eventos.head()"
   ]
  },
  {
   "cell_type": "markdown",
   "id": "95eadf57",
   "metadata": {},
   "source": [
    "Obtener la primera letra del campo evento"
   ]
  },
  {
   "cell_type": "code",
   "execution_count": 8,
   "id": "b59f73ce",
   "metadata": {},
   "outputs": [
    {
     "name": "stderr",
     "output_type": "stream",
     "text": [
      "C:\\Users\\diego\\AppData\\Local\\Temp\\ipykernel_2488\\1697899035.py:1: SettingWithCopyWarning: \n",
      "A value is trying to be set on a copy of a slice from a DataFrame.\n",
      "Try using .loc[row_indexer,col_indexer] = value instead\n",
      "\n",
      "See the caveats in the documentation: https://pandas.pydata.org/pandas-docs/stable/user_guide/indexing.html#returning-a-view-versus-a-copy\n",
      "  df['codigo_evento'] = df['evento'].str[:1]\n"
     ]
    },
    {
     "data": {
      "text/html": [
       "<div>\n",
       "<style scoped>\n",
       "    .dataframe tbody tr th:only-of-type {\n",
       "        vertical-align: middle;\n",
       "    }\n",
       "\n",
       "    .dataframe tbody tr th {\n",
       "        vertical-align: top;\n",
       "    }\n",
       "\n",
       "    .dataframe thead th {\n",
       "        text-align: right;\n",
       "    }\n",
       "</style>\n",
       "<table border=\"1\" class=\"dataframe\">\n",
       "  <thead>\n",
       "    <tr style=\"text-align: right;\">\n",
       "      <th></th>\n",
       "      <th>id</th>\n",
       "      <th>fecha_evento</th>\n",
       "      <th>planeado</th>\n",
       "      <th>evento</th>\n",
       "      <th>lugar</th>\n",
       "      <th>intrusion</th>\n",
       "      <th>codigo_evento</th>\n",
       "    </tr>\n",
       "  </thead>\n",
       "  <tbody>\n",
       "    <tr>\n",
       "      <th>0</th>\n",
       "      <td>1</td>\n",
       "      <td>12/27/2021</td>\n",
       "      <td>False</td>\n",
       "      <td>Zulu November Romeo Hotel Lima Charlie Juliett...</td>\n",
       "      <td>AF</td>\n",
       "      <td>True</td>\n",
       "      <td>Z</td>\n",
       "    </tr>\n",
       "    <tr>\n",
       "      <th>2</th>\n",
       "      <td>3</td>\n",
       "      <td>12/24/2021</td>\n",
       "      <td>False</td>\n",
       "      <td>Delta Quebec Papa Foxtrot Juliett Mike Charlie...</td>\n",
       "      <td>SA</td>\n",
       "      <td>False</td>\n",
       "      <td>D</td>\n",
       "    </tr>\n",
       "    <tr>\n",
       "      <th>3</th>\n",
       "      <td>4</td>\n",
       "      <td>12/23/2021</td>\n",
       "      <td>True</td>\n",
       "      <td>Papa Kilo Uniform Echo Yankee Juliett Romeo Li...</td>\n",
       "      <td>EU</td>\n",
       "      <td>False</td>\n",
       "      <td>P</td>\n",
       "    </tr>\n",
       "    <tr>\n",
       "      <th>4</th>\n",
       "      <td>5</td>\n",
       "      <td>9/9/2021</td>\n",
       "      <td>False</td>\n",
       "      <td>Papa Tango Quebec Alfa X-ray Lima Bravo Unifor...</td>\n",
       "      <td>OC</td>\n",
       "      <td>True</td>\n",
       "      <td>P</td>\n",
       "    </tr>\n",
       "    <tr>\n",
       "      <th>6</th>\n",
       "      <td>7</td>\n",
       "      <td>12/29/2021</td>\n",
       "      <td>True</td>\n",
       "      <td>Lima X-ray Romeo Foxtrot Victor Zulu Oscar Hot...</td>\n",
       "      <td>AS</td>\n",
       "      <td>True</td>\n",
       "      <td>L</td>\n",
       "    </tr>\n",
       "  </tbody>\n",
       "</table>\n",
       "</div>"
      ],
      "text/plain": [
       "   id fecha_evento  planeado  \\\n",
       "0   1   12/27/2021     False   \n",
       "2   3   12/24/2021     False   \n",
       "3   4   12/23/2021      True   \n",
       "4   5     9/9/2021     False   \n",
       "6   7   12/29/2021      True   \n",
       "\n",
       "                                              evento lugar  intrusion  \\\n",
       "0  Zulu November Romeo Hotel Lima Charlie Juliett...    AF       True   \n",
       "2  Delta Quebec Papa Foxtrot Juliett Mike Charlie...    SA      False   \n",
       "3  Papa Kilo Uniform Echo Yankee Juliett Romeo Li...    EU      False   \n",
       "4  Papa Tango Quebec Alfa X-ray Lima Bravo Unifor...    OC       True   \n",
       "6  Lima X-ray Romeo Foxtrot Victor Zulu Oscar Hot...    AS       True   \n",
       "\n",
       "  codigo_evento  \n",
       "0             Z  \n",
       "2             D  \n",
       "3             P  \n",
       "4             P  \n",
       "6             L  "
      ]
     },
     "execution_count": 8,
     "metadata": {},
     "output_type": "execute_result"
    }
   ],
   "source": [
    "df['codigo_evento'] = df['evento'].str[:1]\n",
    "df.head()"
   ]
  },
  {
   "cell_type": "markdown",
   "id": "5dfd3617",
   "metadata": {},
   "source": [
    "Cruzar la información entre el df y la tabla de eventos"
   ]
  },
  {
   "cell_type": "code",
   "execution_count": 9,
   "id": "8ff1d1aa",
   "metadata": {},
   "outputs": [
    {
     "data": {
      "text/html": [
       "<div>\n",
       "<style scoped>\n",
       "    .dataframe tbody tr th:only-of-type {\n",
       "        vertical-align: middle;\n",
       "    }\n",
       "\n",
       "    .dataframe tbody tr th {\n",
       "        vertical-align: top;\n",
       "    }\n",
       "\n",
       "    .dataframe thead th {\n",
       "        text-align: right;\n",
       "    }\n",
       "</style>\n",
       "<table border=\"1\" class=\"dataframe\">\n",
       "  <thead>\n",
       "    <tr style=\"text-align: right;\">\n",
       "      <th></th>\n",
       "      <th>id</th>\n",
       "      <th>fecha_evento</th>\n",
       "      <th>planeado</th>\n",
       "      <th>evento_x</th>\n",
       "      <th>lugar</th>\n",
       "      <th>intrusion</th>\n",
       "      <th>codigo_evento</th>\n",
       "      <th>nato</th>\n",
       "      <th>evento_y</th>\n",
       "    </tr>\n",
       "  </thead>\n",
       "  <tbody>\n",
       "    <tr>\n",
       "      <th>0</th>\n",
       "      <td>1</td>\n",
       "      <td>12/27/2021</td>\n",
       "      <td>False</td>\n",
       "      <td>Zulu November Romeo Hotel Lima Charlie Juliett...</td>\n",
       "      <td>AF</td>\n",
       "      <td>True</td>\n",
       "      <td>Z</td>\n",
       "      <td>Z</td>\n",
       "      <td>sistema desarmado x usuario</td>\n",
       "    </tr>\n",
       "    <tr>\n",
       "      <th>1</th>\n",
       "      <td>50</td>\n",
       "      <td>11/25/2021</td>\n",
       "      <td>False</td>\n",
       "      <td>Zulu Romeo Oscar Kilo Tango Uniform Whiskey X-...</td>\n",
       "      <td>OC</td>\n",
       "      <td>True</td>\n",
       "      <td>Z</td>\n",
       "      <td>Z</td>\n",
       "      <td>sistema desarmado x usuario</td>\n",
       "    </tr>\n",
       "    <tr>\n",
       "      <th>2</th>\n",
       "      <td>86</td>\n",
       "      <td>11/14/2021</td>\n",
       "      <td>True</td>\n",
       "      <td>Zulu Echo X-ray Tango India Foxtrot Uniform Qu...</td>\n",
       "      <td>SA</td>\n",
       "      <td>True</td>\n",
       "      <td>Z</td>\n",
       "      <td>Z</td>\n",
       "      <td>sistema desarmado x usuario</td>\n",
       "    </tr>\n",
       "    <tr>\n",
       "      <th>3</th>\n",
       "      <td>206</td>\n",
       "      <td>9/11/2021</td>\n",
       "      <td>True</td>\n",
       "      <td>Zulu Kilo Juliett Lima Alfa Foxtrot Romeo Mike...</td>\n",
       "      <td>AS</td>\n",
       "      <td>False</td>\n",
       "      <td>Z</td>\n",
       "      <td>Z</td>\n",
       "      <td>sistema desarmado x usuario</td>\n",
       "    </tr>\n",
       "    <tr>\n",
       "      <th>4</th>\n",
       "      <td>280</td>\n",
       "      <td>9/21/2021</td>\n",
       "      <td>False</td>\n",
       "      <td>Zulu Oscar Alfa Juliett Papa Foxtrot Quebec X-...</td>\n",
       "      <td>OC</td>\n",
       "      <td>True</td>\n",
       "      <td>Z</td>\n",
       "      <td>Z</td>\n",
       "      <td>sistema desarmado x usuario</td>\n",
       "    </tr>\n",
       "  </tbody>\n",
       "</table>\n",
       "</div>"
      ],
      "text/plain": [
       "    id fecha_evento  planeado  \\\n",
       "0    1   12/27/2021     False   \n",
       "1   50   11/25/2021     False   \n",
       "2   86   11/14/2021      True   \n",
       "3  206    9/11/2021      True   \n",
       "4  280    9/21/2021     False   \n",
       "\n",
       "                                            evento_x lugar  intrusion  \\\n",
       "0  Zulu November Romeo Hotel Lima Charlie Juliett...    AF       True   \n",
       "1  Zulu Romeo Oscar Kilo Tango Uniform Whiskey X-...    OC       True   \n",
       "2  Zulu Echo X-ray Tango India Foxtrot Uniform Qu...    SA       True   \n",
       "3  Zulu Kilo Juliett Lima Alfa Foxtrot Romeo Mike...    AS      False   \n",
       "4  Zulu Oscar Alfa Juliett Papa Foxtrot Quebec X-...    OC       True   \n",
       "\n",
       "  codigo_evento nato                     evento_y  \n",
       "0             Z    Z  sistema desarmado x usuario  \n",
       "1             Z    Z  sistema desarmado x usuario  \n",
       "2             Z    Z  sistema desarmado x usuario  \n",
       "3             Z    Z  sistema desarmado x usuario  \n",
       "4             Z    Z  sistema desarmado x usuario  "
      ]
     },
     "execution_count": 9,
     "metadata": {},
     "output_type": "execute_result"
    }
   ],
   "source": [
    "df_merge = df.merge(df_eventos, left_on='codigo_evento', right_on='nato')\n",
    "df_merge.head()"
   ]
  },
  {
   "cell_type": "markdown",
   "id": "9ef7639c",
   "metadata": {},
   "source": [
    "Eliminar columnas"
   ]
  },
  {
   "cell_type": "code",
   "execution_count": 10,
   "id": "d27d2bc9",
   "metadata": {},
   "outputs": [
    {
     "data": {
      "text/html": [
       "<div>\n",
       "<style scoped>\n",
       "    .dataframe tbody tr th:only-of-type {\n",
       "        vertical-align: middle;\n",
       "    }\n",
       "\n",
       "    .dataframe tbody tr th {\n",
       "        vertical-align: top;\n",
       "    }\n",
       "\n",
       "    .dataframe thead th {\n",
       "        text-align: right;\n",
       "    }\n",
       "</style>\n",
       "<table border=\"1\" class=\"dataframe\">\n",
       "  <thead>\n",
       "    <tr style=\"text-align: right;\">\n",
       "      <th></th>\n",
       "      <th>id</th>\n",
       "      <th>fecha_evento</th>\n",
       "      <th>planeado</th>\n",
       "      <th>lugar</th>\n",
       "      <th>intrusion</th>\n",
       "      <th>evento_y</th>\n",
       "    </tr>\n",
       "  </thead>\n",
       "  <tbody>\n",
       "    <tr>\n",
       "      <th>0</th>\n",
       "      <td>1</td>\n",
       "      <td>12/27/2021</td>\n",
       "      <td>False</td>\n",
       "      <td>AF</td>\n",
       "      <td>True</td>\n",
       "      <td>sistema desarmado x usuario</td>\n",
       "    </tr>\n",
       "    <tr>\n",
       "      <th>1</th>\n",
       "      <td>50</td>\n",
       "      <td>11/25/2021</td>\n",
       "      <td>False</td>\n",
       "      <td>OC</td>\n",
       "      <td>True</td>\n",
       "      <td>sistema desarmado x usuario</td>\n",
       "    </tr>\n",
       "    <tr>\n",
       "      <th>2</th>\n",
       "      <td>86</td>\n",
       "      <td>11/14/2021</td>\n",
       "      <td>True</td>\n",
       "      <td>SA</td>\n",
       "      <td>True</td>\n",
       "      <td>sistema desarmado x usuario</td>\n",
       "    </tr>\n",
       "    <tr>\n",
       "      <th>3</th>\n",
       "      <td>206</td>\n",
       "      <td>9/11/2021</td>\n",
       "      <td>True</td>\n",
       "      <td>AS</td>\n",
       "      <td>False</td>\n",
       "      <td>sistema desarmado x usuario</td>\n",
       "    </tr>\n",
       "    <tr>\n",
       "      <th>4</th>\n",
       "      <td>280</td>\n",
       "      <td>9/21/2021</td>\n",
       "      <td>False</td>\n",
       "      <td>OC</td>\n",
       "      <td>True</td>\n",
       "      <td>sistema desarmado x usuario</td>\n",
       "    </tr>\n",
       "  </tbody>\n",
       "</table>\n",
       "</div>"
      ],
      "text/plain": [
       "    id fecha_evento  planeado lugar  intrusion                     evento_y\n",
       "0    1   12/27/2021     False    AF       True  sistema desarmado x usuario\n",
       "1   50   11/25/2021     False    OC       True  sistema desarmado x usuario\n",
       "2   86   11/14/2021      True    SA       True  sistema desarmado x usuario\n",
       "3  206    9/11/2021      True    AS      False  sistema desarmado x usuario\n",
       "4  280    9/21/2021     False    OC       True  sistema desarmado x usuario"
      ]
     },
     "execution_count": 10,
     "metadata": {},
     "output_type": "execute_result"
    }
   ],
   "source": [
    "df_final = df_merge.drop(columns=['evento_x', 'codigo_evento', 'nato'])\n",
    "df_final.head()"
   ]
  },
  {
   "cell_type": "markdown",
   "id": "3e555947",
   "metadata": {},
   "source": [
    "Cuantas localidades hay en nuestro dataset?"
   ]
  },
  {
   "cell_type": "code",
   "execution_count": 11,
   "id": "74fa2c6f",
   "metadata": {},
   "outputs": [
    {
     "data": {
      "text/plain": [
       "array(['AF', 'OC', 'SA', 'AS', 'EU'], dtype=object)"
      ]
     },
     "execution_count": 11,
     "metadata": {},
     "output_type": "execute_result"
    }
   ],
   "source": [
    "df_final.lugar.unique()"
   ]
  },
  {
   "cell_type": "markdown",
   "id": "5bad8b3c",
   "metadata": {},
   "source": [
    "Convertir valores booleanos (de True False a 1 y 0)"
   ]
  },
  {
   "cell_type": "code",
   "execution_count": 12,
   "id": "f5ef69b3",
   "metadata": {},
   "outputs": [
    {
     "data": {
      "text/html": [
       "<div>\n",
       "<style scoped>\n",
       "    .dataframe tbody tr th:only-of-type {\n",
       "        vertical-align: middle;\n",
       "    }\n",
       "\n",
       "    .dataframe tbody tr th {\n",
       "        vertical-align: top;\n",
       "    }\n",
       "\n",
       "    .dataframe thead th {\n",
       "        text-align: right;\n",
       "    }\n",
       "</style>\n",
       "<table border=\"1\" class=\"dataframe\">\n",
       "  <thead>\n",
       "    <tr style=\"text-align: right;\">\n",
       "      <th></th>\n",
       "      <th>id</th>\n",
       "      <th>fecha_evento</th>\n",
       "      <th>planeado</th>\n",
       "      <th>lugar</th>\n",
       "      <th>intrusion</th>\n",
       "      <th>evento_y</th>\n",
       "    </tr>\n",
       "  </thead>\n",
       "  <tbody>\n",
       "    <tr>\n",
       "      <th>0</th>\n",
       "      <td>1</td>\n",
       "      <td>12/27/2021</td>\n",
       "      <td>0</td>\n",
       "      <td>AF</td>\n",
       "      <td>1</td>\n",
       "      <td>sistema desarmado x usuario</td>\n",
       "    </tr>\n",
       "    <tr>\n",
       "      <th>1</th>\n",
       "      <td>50</td>\n",
       "      <td>11/25/2021</td>\n",
       "      <td>0</td>\n",
       "      <td>OC</td>\n",
       "      <td>1</td>\n",
       "      <td>sistema desarmado x usuario</td>\n",
       "    </tr>\n",
       "    <tr>\n",
       "      <th>2</th>\n",
       "      <td>86</td>\n",
       "      <td>11/14/2021</td>\n",
       "      <td>1</td>\n",
       "      <td>SA</td>\n",
       "      <td>1</td>\n",
       "      <td>sistema desarmado x usuario</td>\n",
       "    </tr>\n",
       "    <tr>\n",
       "      <th>3</th>\n",
       "      <td>206</td>\n",
       "      <td>9/11/2021</td>\n",
       "      <td>1</td>\n",
       "      <td>AS</td>\n",
       "      <td>0</td>\n",
       "      <td>sistema desarmado x usuario</td>\n",
       "    </tr>\n",
       "    <tr>\n",
       "      <th>4</th>\n",
       "      <td>280</td>\n",
       "      <td>9/21/2021</td>\n",
       "      <td>0</td>\n",
       "      <td>OC</td>\n",
       "      <td>1</td>\n",
       "      <td>sistema desarmado x usuario</td>\n",
       "    </tr>\n",
       "  </tbody>\n",
       "</table>\n",
       "</div>"
      ],
      "text/plain": [
       "    id fecha_evento  planeado lugar  intrusion                     evento_y\n",
       "0    1   12/27/2021         0    AF          1  sistema desarmado x usuario\n",
       "1   50   11/25/2021         0    OC          1  sistema desarmado x usuario\n",
       "2   86   11/14/2021         1    SA          1  sistema desarmado x usuario\n",
       "3  206    9/11/2021         1    AS          0  sistema desarmado x usuario\n",
       "4  280    9/21/2021         0    OC          1  sistema desarmado x usuario"
      ]
     },
     "execution_count": 12,
     "metadata": {},
     "output_type": "execute_result"
    }
   ],
   "source": [
    "df_modelo = df_final*1\n",
    "df_modelo.head()"
   ]
  },
  {
   "cell_type": "markdown",
   "id": "90ff64f3",
   "metadata": {},
   "source": [
    "Organizar formato fecha"
   ]
  },
  {
   "cell_type": "code",
   "execution_count": 13,
   "id": "3162d14e",
   "metadata": {},
   "outputs": [
    {
     "data": {
      "text/html": [
       "<div>\n",
       "<style scoped>\n",
       "    .dataframe tbody tr th:only-of-type {\n",
       "        vertical-align: middle;\n",
       "    }\n",
       "\n",
       "    .dataframe tbody tr th {\n",
       "        vertical-align: top;\n",
       "    }\n",
       "\n",
       "    .dataframe thead th {\n",
       "        text-align: right;\n",
       "    }\n",
       "</style>\n",
       "<table border=\"1\" class=\"dataframe\">\n",
       "  <thead>\n",
       "    <tr style=\"text-align: right;\">\n",
       "      <th></th>\n",
       "      <th>id</th>\n",
       "      <th>fecha_evento</th>\n",
       "      <th>planeado</th>\n",
       "      <th>lugar</th>\n",
       "      <th>intrusion</th>\n",
       "      <th>evento_y</th>\n",
       "    </tr>\n",
       "  </thead>\n",
       "  <tbody>\n",
       "    <tr>\n",
       "      <th>0</th>\n",
       "      <td>1</td>\n",
       "      <td>2021-12-27</td>\n",
       "      <td>0</td>\n",
       "      <td>AF</td>\n",
       "      <td>1</td>\n",
       "      <td>sistema desarmado x usuario</td>\n",
       "    </tr>\n",
       "    <tr>\n",
       "      <th>1</th>\n",
       "      <td>50</td>\n",
       "      <td>2021-11-25</td>\n",
       "      <td>0</td>\n",
       "      <td>OC</td>\n",
       "      <td>1</td>\n",
       "      <td>sistema desarmado x usuario</td>\n",
       "    </tr>\n",
       "    <tr>\n",
       "      <th>2</th>\n",
       "      <td>86</td>\n",
       "      <td>2021-11-14</td>\n",
       "      <td>1</td>\n",
       "      <td>SA</td>\n",
       "      <td>1</td>\n",
       "      <td>sistema desarmado x usuario</td>\n",
       "    </tr>\n",
       "    <tr>\n",
       "      <th>3</th>\n",
       "      <td>206</td>\n",
       "      <td>2021-09-11</td>\n",
       "      <td>1</td>\n",
       "      <td>AS</td>\n",
       "      <td>0</td>\n",
       "      <td>sistema desarmado x usuario</td>\n",
       "    </tr>\n",
       "    <tr>\n",
       "      <th>4</th>\n",
       "      <td>280</td>\n",
       "      <td>2021-09-21</td>\n",
       "      <td>0</td>\n",
       "      <td>OC</td>\n",
       "      <td>1</td>\n",
       "      <td>sistema desarmado x usuario</td>\n",
       "    </tr>\n",
       "  </tbody>\n",
       "</table>\n",
       "</div>"
      ],
      "text/plain": [
       "    id fecha_evento  planeado lugar  intrusion                     evento_y\n",
       "0    1   2021-12-27         0    AF          1  sistema desarmado x usuario\n",
       "1   50   2021-11-25         0    OC          1  sistema desarmado x usuario\n",
       "2   86   2021-11-14         1    SA          1  sistema desarmado x usuario\n",
       "3  206   2021-09-11         1    AS          0  sistema desarmado x usuario\n",
       "4  280   2021-09-21         0    OC          1  sistema desarmado x usuario"
      ]
     },
     "execution_count": 13,
     "metadata": {},
     "output_type": "execute_result"
    }
   ],
   "source": [
    "df_modelo['fecha_evento'] = pd.to_datetime(df_modelo['fecha_evento'], format='%m/%d/%Y')\n",
    "df_modelo.head()"
   ]
  },
  {
   "cell_type": "code",
   "execution_count": 14,
   "id": "d13bbd16",
   "metadata": {
    "scrolled": true
   },
   "outputs": [
    {
     "name": "stdout",
     "output_type": "stream",
     "text": [
      "<class 'pandas.core.frame.DataFrame'>\n",
      "Int64Index: 4067 entries, 0 to 4066\n",
      "Data columns (total 6 columns):\n",
      " #   Column        Non-Null Count  Dtype         \n",
      "---  ------        --------------  -----         \n",
      " 0   id            4067 non-null   int64         \n",
      " 1   fecha_evento  4067 non-null   datetime64[ns]\n",
      " 2   planeado      4067 non-null   int32         \n",
      " 3   lugar         4067 non-null   object        \n",
      " 4   intrusion     4067 non-null   int32         \n",
      " 5   evento_y      4067 non-null   object        \n",
      "dtypes: datetime64[ns](1), int32(2), int64(1), object(2)\n",
      "memory usage: 190.6+ KB\n"
     ]
    }
   ],
   "source": [
    "df_modelo.info()"
   ]
  },
  {
   "cell_type": "code",
   "execution_count": 15,
   "id": "1e3ec057",
   "metadata": {},
   "outputs": [],
   "source": [
    "df_modelo.to_csv('./finaldf.csv')"
   ]
  },
  {
   "cell_type": "markdown",
   "id": "8c4b7304",
   "metadata": {},
   "source": [
    "## Análisis teorico del modelo a utilizar"
   ]
  },
  {
   "cell_type": "markdown",
   "id": "767a3b0e",
   "metadata": {},
   "source": [
    "### Lugar del proximo evento"
   ]
  },
  {
   "cell_type": "markdown",
   "id": "0ec596bb",
   "metadata": {},
   "source": [
    "En el dataset hay 5 localidades. Sabiendo esto debemos entonces evaluar como se comporta la variable lugar con los demás atributos. Empezaremos determinando la frecuencia de eventos por cada lugar."
   ]
  },
  {
   "cell_type": "markdown",
   "id": "22058335",
   "metadata": {},
   "source": [
    "Solo se deben evaluar los eventos de intrusion reales. Por lo cual filtrando tenemos el sguiente dataframe:"
   ]
  },
  {
   "cell_type": "code",
   "execution_count": 34,
   "id": "80ef4fb8",
   "metadata": {},
   "outputs": [
    {
     "data": {
      "text/html": [
       "<div>\n",
       "<style scoped>\n",
       "    .dataframe tbody tr th:only-of-type {\n",
       "        vertical-align: middle;\n",
       "    }\n",
       "\n",
       "    .dataframe tbody tr th {\n",
       "        vertical-align: top;\n",
       "    }\n",
       "\n",
       "    .dataframe thead th {\n",
       "        text-align: right;\n",
       "    }\n",
       "</style>\n",
       "<table border=\"1\" class=\"dataframe\">\n",
       "  <thead>\n",
       "    <tr style=\"text-align: right;\">\n",
       "      <th></th>\n",
       "      <th>id</th>\n",
       "      <th>planeado</th>\n",
       "      <th>intrusion</th>\n",
       "    </tr>\n",
       "  </thead>\n",
       "  <tbody>\n",
       "    <tr>\n",
       "      <th>count</th>\n",
       "      <td>2088.000000</td>\n",
       "      <td>2088.00000</td>\n",
       "      <td>2088.0</td>\n",
       "    </tr>\n",
       "    <tr>\n",
       "      <th>mean</th>\n",
       "      <td>503.847222</td>\n",
       "      <td>0.51341</td>\n",
       "      <td>1.0</td>\n",
       "    </tr>\n",
       "    <tr>\n",
       "      <th>std</th>\n",
       "      <td>291.870845</td>\n",
       "      <td>0.49994</td>\n",
       "      <td>0.0</td>\n",
       "    </tr>\n",
       "    <tr>\n",
       "      <th>min</th>\n",
       "      <td>1.000000</td>\n",
       "      <td>0.00000</td>\n",
       "      <td>1.0</td>\n",
       "    </tr>\n",
       "    <tr>\n",
       "      <th>25%</th>\n",
       "      <td>250.000000</td>\n",
       "      <td>0.00000</td>\n",
       "      <td>1.0</td>\n",
       "    </tr>\n",
       "    <tr>\n",
       "      <th>50%</th>\n",
       "      <td>513.500000</td>\n",
       "      <td>1.00000</td>\n",
       "      <td>1.0</td>\n",
       "    </tr>\n",
       "    <tr>\n",
       "      <th>75%</th>\n",
       "      <td>758.000000</td>\n",
       "      <td>1.00000</td>\n",
       "      <td>1.0</td>\n",
       "    </tr>\n",
       "    <tr>\n",
       "      <th>max</th>\n",
       "      <td>1000.000000</td>\n",
       "      <td>1.00000</td>\n",
       "      <td>1.0</td>\n",
       "    </tr>\n",
       "  </tbody>\n",
       "</table>\n",
       "</div>"
      ],
      "text/plain": [
       "                id    planeado  intrusion\n",
       "count  2088.000000  2088.00000     2088.0\n",
       "mean    503.847222     0.51341        1.0\n",
       "std     291.870845     0.49994        0.0\n",
       "min       1.000000     0.00000        1.0\n",
       "25%     250.000000     0.00000        1.0\n",
       "50%     513.500000     1.00000        1.0\n",
       "75%     758.000000     1.00000        1.0\n",
       "max    1000.000000     1.00000        1.0"
      ]
     },
     "execution_count": 34,
     "metadata": {},
     "output_type": "execute_result"
    }
   ],
   "source": [
    "df_modelo = df_modelo[df_modelo['intrusion'] == 1]\n",
    "df_modelo.describe()"
   ]
  },
  {
   "cell_type": "code",
   "execution_count": 35,
   "id": "222c042b",
   "metadata": {},
   "outputs": [
    {
     "data": {
      "text/plain": [
       "(array([338.,   0., 451.,   0.,   0., 385.,   0., 569.,   0., 345.]),\n",
       " array([0. , 0.4, 0.8, 1.2, 1.6, 2. , 2.4, 2.8, 3.2, 3.6, 4. ]),\n",
       " <BarContainer object of 10 artists>)"
      ]
     },
     "execution_count": 35,
     "metadata": {},
     "output_type": "execute_result"
    },
    {
     "data": {
      "image/png": "[encoded data removed]",
      "text/plain": [
       "<Figure size 640x480 with 1 Axes>"
      ]
     },
     "metadata": {},
     "output_type": "display_data"
    }
   ],
   "source": [
    "plt.hist(df_modelo[['lugar']])"
   ]
  },
  {
   "cell_type": "markdown",
   "id": "30d8a5f8",
   "metadata": {},
   "source": [
    "Grafiquemos la distribución de eventos por fecha"
   ]
  },
  {
   "cell_type": "code",
   "execution_count": 36,
   "id": "240c67db",
   "metadata": {},
   "outputs": [
    {
     "name": "stderr",
     "output_type": "stream",
     "text": [
      "C:\\Users\\diego\\AppData\\Local\\Temp\\ipykernel_2488\\3900545684.py:2: SettingWithCopyWarning: \n",
      "A value is trying to be set on a copy of a slice from a DataFrame.\n",
      "Try using .loc[row_indexer,col_indexer] = value instead\n",
      "\n",
      "See the caveats in the documentation: https://pandas.pydata.org/pandas-docs/stable/user_guide/indexing.html#returning-a-view-versus-a-copy\n",
      "  df_date_local['count'] = 1\n"
     ]
    },
    {
     "data": {
      "text/html": [
       "<div>\n",
       "<style scoped>\n",
       "    .dataframe tbody tr th:only-of-type {\n",
       "        vertical-align: middle;\n",
       "    }\n",
       "\n",
       "    .dataframe tbody tr th {\n",
       "        vertical-align: top;\n",
       "    }\n",
       "\n",
       "    .dataframe thead th {\n",
       "        text-align: right;\n",
       "    }\n",
       "</style>\n",
       "<table border=\"1\" class=\"dataframe\">\n",
       "  <thead>\n",
       "    <tr style=\"text-align: right;\">\n",
       "      <th></th>\n",
       "      <th>fecha_evento</th>\n",
       "      <th>lugar</th>\n",
       "      <th>count</th>\n",
       "    </tr>\n",
       "  </thead>\n",
       "  <tbody>\n",
       "    <tr>\n",
       "      <th>0</th>\n",
       "      <td>2021-07-01</td>\n",
       "      <td>AF</td>\n",
       "      <td>2</td>\n",
       "    </tr>\n",
       "    <tr>\n",
       "      <th>1</th>\n",
       "      <td>2021-07-01</td>\n",
       "      <td>AS</td>\n",
       "      <td>3</td>\n",
       "    </tr>\n",
       "    <tr>\n",
       "      <th>2</th>\n",
       "      <td>2021-07-01</td>\n",
       "      <td>SA</td>\n",
       "      <td>4</td>\n",
       "    </tr>\n",
       "    <tr>\n",
       "      <th>3</th>\n",
       "      <td>2021-07-02</td>\n",
       "      <td>AF</td>\n",
       "      <td>3</td>\n",
       "    </tr>\n",
       "    <tr>\n",
       "      <th>4</th>\n",
       "      <td>2021-07-02</td>\n",
       "      <td>AS</td>\n",
       "      <td>3</td>\n",
       "    </tr>\n",
       "  </tbody>\n",
       "</table>\n",
       "</div>"
      ],
      "text/plain": [
       "  fecha_evento lugar  count\n",
       "0   2021-07-01    AF      2\n",
       "1   2021-07-01    AS      3\n",
       "2   2021-07-01    SA      4\n",
       "3   2021-07-02    AF      3\n",
       "4   2021-07-02    AS      3"
      ]
     },
     "execution_count": 36,
     "metadata": {},
     "output_type": "execute_result"
    }
   ],
   "source": [
    "df_date_local = df_modelo[['fecha_evento', 'lugar']]\n",
    "df_date_local['count'] = 1\n",
    "df_date_local = df_date_local.groupby(['fecha_evento', 'lugar']).count()\n",
    "df_date_local = df_date_local.reset_index()\n",
    "df_date_local.head()"
   ]
  },
  {
   "cell_type": "code",
   "execution_count": 37,
   "id": "f16d14a9",
   "metadata": {},
   "outputs": [
    {
     "data": {
      "text/plain": [
       "array(['AF', 'AS', 'SA', 'EU', 'OC'], dtype=object)"
      ]
     },
     "execution_count": 37,
     "metadata": {},
     "output_type": "execute_result"
    }
   ],
   "source": [
    "df_date_local.lugar.unique()"
   ]
  },
  {
   "cell_type": "code",
   "execution_count": 38,
   "id": "77e8c59a",
   "metadata": {},
   "outputs": [],
   "source": [
    "import matplotlib.pyplot as plt"
   ]
  },
  {
   "cell_type": "code",
   "execution_count": 39,
   "id": "19ca13ff",
   "metadata": {},
   "outputs": [
    {
     "data": {
      "image/png": "[encoded data removed]",
      "text/plain": [
       "<Figure size 640x480 with 1 Axes>"
      ]
     },
     "metadata": {},
     "output_type": "display_data"
    }
   ],
   "source": [
    "##['AF', 'AS', 'EU', 'OC', 'SA']\n",
    "colors = ['b', 'c', 'y', 'm', 'r']\n",
    "\n",
    "\n",
    "df_af = df_date_local[df_date_local.lugar == 'AF']\n",
    "df_as = df_date_local[df_date_local.lugar == 'AS']\n",
    "df_eu = df_date_local[df_date_local.lugar == 'EU']\n",
    "df_oc = df_date_local[df_date_local.lugar == 'OC']\n",
    "df_sa = df_date_local[df_date_local.lugar == 'SA']\n",
    "\n",
    "af = plt.scatter(x=df_af['fecha_evento'] ,y=df_af['count'], marker='x', color=colors[4])\n",
    "as_= plt.scatter(x=df_as['fecha_evento'] ,y=df_as['count'], color=colors[1])\n",
    "eu = plt.scatter(x=df_eu['fecha_evento'] ,y=df_eu['count'], color=colors[2])\n",
    "oc = plt.scatter(x=df_oc['fecha_evento'] ,y=df_oc['count'], color=colors[3])\n",
    "sa = plt.scatter(x=df_sa['fecha_evento'] ,y=df_sa['count'], color=colors[0])\n",
    "\n",
    "plt.legend((af, as_, eu, oc, sa),\n",
    "           ('af', 'as_', 'eu', 'oc', 'sa'),\n",
    "           scatterpoints=1,\n",
    "           loc='upper right',\n",
    "           ncol=3,\n",
    "           fontsize=8)\n",
    "\n",
    "plt.show()\n",
    "\n",
    "#g = plt.scatter(x=df_date_local['fecha_evento'], y=df_date_local['count'], c=df_date_local['lugar'])"
   ]
  },
  {
   "cell_type": "markdown",
   "id": "7ea5535b",
   "metadata": {},
   "source": [
    "Como vemos en la grafica de frecuencias, la localidad AS tendria una probabilidad mayor de intrusiones mientras que AF, SA y EU pordrían llegar a tener la mitad de la probabilidad para un evento similar. La localidad OC tiene una probabilidad intermedia comparandola con los dos grupos anteriormente mensionados."
   ]
  },
  {
   "cell_type": "markdown",
   "id": "36a5ed62",
   "metadata": {},
   "source": [
    "Suponiendo que esto es un caso normal propondría el desarrollode un modelo de regresión logistica (clasificación) y con una estrategia de producción de eventos random eneraría un sericio que podria brindar insights de donde sera el proximo evento e incluso que clase de evento sería."
   ]
  },
  {
   "cell_type": "markdown",
   "id": "1b878a42",
   "metadata": {},
   "source": [
    "Debido a las circunstancia se desarrollara un modelo con la herramienta lowcode Pycaret, este modelo es una antesala de lo que yo podría llegar a crear con librerías como Sklearn y TensorFlow y data adecuada o mayor conocimiento del problema.\n",
    "\n",
    "Para ver los notebooks con el desarrollo de este modelo en la carpeta \"pycaret_script\" y para usar el modelo el cual esta en archivo tipo pkl puede dirigirse a la carpeta \"modelo_pycaret\". Es importante mencionar que la data con la cual se creo este modelo y la con la cual se debe probar el mismo es el archivo \"finaldf.csv\""
   ]
  },
  {
   "cell_type": "markdown",
   "id": "69a5b20f",
   "metadata": {},
   "source": [
    "### Fecha del proximo evento"
   ]
  },
  {
   "cell_type": "markdown",
   "id": "4c230f05",
   "metadata": {},
   "source": [
    "Para este caso de forecasting se debe trabajar solo con las fechas en las cuales hubo una intrusión. Con esto el DataFrame sería entonces:"
   ]
  },
  {
   "cell_type": "code",
   "execution_count": 40,
   "id": "43f1904d",
   "metadata": {},
   "outputs": [
    {
     "name": "stderr",
     "output_type": "stream",
     "text": [
      "C:\\Users\\diego\\AppData\\Local\\Temp\\ipykernel_2488\\3328224527.py:2: SettingWithCopyWarning: \n",
      "A value is trying to be set on a copy of a slice from a DataFrame.\n",
      "Try using .loc[row_indexer,col_indexer] = value instead\n",
      "\n",
      "See the caveats in the documentation: https://pandas.pydata.org/pandas-docs/stable/user_guide/indexing.html#returning-a-view-versus-a-copy\n",
      "  df_evento['count'] = 1\n"
     ]
    },
    {
     "data": {
      "text/html": [
       "<div>\n",
       "<style scoped>\n",
       "    .dataframe tbody tr th:only-of-type {\n",
       "        vertical-align: middle;\n",
       "    }\n",
       "\n",
       "    .dataframe tbody tr th {\n",
       "        vertical-align: top;\n",
       "    }\n",
       "\n",
       "    .dataframe thead th {\n",
       "        text-align: right;\n",
       "    }\n",
       "</style>\n",
       "<table border=\"1\" class=\"dataframe\">\n",
       "  <thead>\n",
       "    <tr style=\"text-align: right;\">\n",
       "      <th></th>\n",
       "      <th>fecha_evento</th>\n",
       "      <th>count</th>\n",
       "    </tr>\n",
       "  </thead>\n",
       "  <tbody>\n",
       "    <tr>\n",
       "      <th>0</th>\n",
       "      <td>2021-07-01</td>\n",
       "      <td>9</td>\n",
       "    </tr>\n",
       "    <tr>\n",
       "      <th>1</th>\n",
       "      <td>2021-07-02</td>\n",
       "      <td>18</td>\n",
       "    </tr>\n",
       "    <tr>\n",
       "      <th>2</th>\n",
       "      <td>2021-07-03</td>\n",
       "      <td>7</td>\n",
       "    </tr>\n",
       "    <tr>\n",
       "      <th>3</th>\n",
       "      <td>2021-07-04</td>\n",
       "      <td>10</td>\n",
       "    </tr>\n",
       "    <tr>\n",
       "      <th>4</th>\n",
       "      <td>2021-07-05</td>\n",
       "      <td>8</td>\n",
       "    </tr>\n",
       "  </tbody>\n",
       "</table>\n",
       "</div>"
      ],
      "text/plain": [
       "  fecha_evento  count\n",
       "0   2021-07-01      9\n",
       "1   2021-07-02     18\n",
       "2   2021-07-03      7\n",
       "3   2021-07-04     10\n",
       "4   2021-07-05      8"
      ]
     },
     "execution_count": 40,
     "metadata": {},
     "output_type": "execute_result"
    }
   ],
   "source": [
    "df_evento = df_modelo[['fecha_evento']]\n",
    "df_evento['count'] = 1\n",
    "df_evento = df_evento.groupby(['fecha_evento']).count()\n",
    "df_evento = df_evento.reset_index()\n",
    "df_evento.head()"
   ]
  },
  {
   "cell_type": "markdown",
   "id": "0eac800d",
   "metadata": {},
   "source": [
    "para visualizar data secuencial como la generada por fechas podemos usar una grafica de linea:"
   ]
  },
  {
   "cell_type": "code",
   "execution_count": 41,
   "id": "1d83b3d9",
   "metadata": {},
   "outputs": [
    {
     "data": {
      "image/png": "[encoded data removed]",
      "text/plain": [
       "<Figure size 640x480 with 1 Axes>"
      ]
     },
     "metadata": {},
     "output_type": "display_data"
    }
   ],
   "source": [
    "plt.plot(df_evento['fecha_evento'], df_evento['count'])\n",
    "plt.show()['']"
   ]
  },
  {
   "cell_type": "markdown",
   "id": "9fbac871",
   "metadata": {},
   "source": [
    "Esto es claramente un problema de forecasting por lo cual desarrollaremos un modelo para deermiar cual sera la siguiente fecha en la que habran intruciones o en su defecto cuantas intrusiones habran.\n",
    "\n",
    "Este proceso se hara con la librería statsmodel usando el modelo Sarima. Como primer paso dividiremos la información entre data de train y test:"
   ]
  },
  {
   "cell_type": "code",
   "execution_count": 42,
   "id": "975113f8",
   "metadata": {},
   "outputs": [],
   "source": [
    "train = df_evento[df_evento.fecha_evento < pd.to_datetime(\"2021-12-01\", format='%Y-%m-%d')]\n",
    "test = df_evento[df_evento.fecha_evento > pd.to_datetime(\"2021-12-01\", format='%Y-%m-%d')]"
   ]
  },
  {
   "cell_type": "markdown",
   "id": "0b108ceb",
   "metadata": {},
   "source": [
    "Graficando la data de entrenamiento y test"
   ]
  },
  {
   "cell_type": "code",
   "execution_count": 54,
   "id": "e064f7d9",
   "metadata": {},
   "outputs": [
    {
     "data": {
      "image/png": "[encoded data removed]",
      "text/plain": [
       "<Figure size 640x480 with 1 Axes>"
      ]
     },
     "metadata": {},
     "output_type": "display_data"
    }
   ],
   "source": [
    "plt.plot(train['fecha_evento'], train['count'], color = \"black\")\n",
    "plt.plot(test['fecha_evento'], test['count'], color = \"red\")\n",
    "plt.ylabel('Intrusiones')\n",
    "plt.xlabel('Fecha')\n",
    "plt.xticks(rotation=45)\n",
    "plt.title(\"Train/Test\")\n",
    "plt.show()"
   ]
  },
  {
   "cell_type": "code",
   "execution_count": 51,
   "id": "58d8b9f1",
   "metadata": {},
   "outputs": [],
   "source": [
    "from statsmodels.tsa.statespace.sarimax import SARIMAX\n",
    "\n",
    "\n",
    "y = train['count']"
   ]
  },
  {
   "cell_type": "markdown",
   "id": "49b0258c",
   "metadata": {},
   "source": [
    "Desarrollo del modelo, para este caso se iteraran los hiperparametros en un rango de 0 a 3 y se graficara la información comparandola con la data real."
   ]
  },
  {
   "cell_type": "code",
   "execution_count": 100,
   "id": "90e222ae",
   "metadata": {},
   "outputs": [
    {
     "name": "stderr",
     "output_type": "stream",
     "text": [
      "C:\\Users\\diego\\Study\\prueba-tecnica\\env\\lib\\site-packages\\statsmodels\\base\\model.py:604: ConvergenceWarning: Maximum Likelihood optimization failed to converge. Check mle_retvals\n",
      "  warnings.warn(\"Maximum Likelihood optimization failed to \"\n"
     ]
    }
   ],
   "source": [
    "SARIMAXmodel = SARIMAX(y, order = (1, 0, 1), seasonal_order=(2,2,2,12))\n",
    "SARIMAXmodel = SARIMAXmodel.fit()"
   ]
  },
  {
   "cell_type": "code",
   "execution_count": 101,
   "id": "bb25df55",
   "metadata": {},
   "outputs": [
    {
     "data": {
      "text/html": [
       "<div>\n",
       "<style scoped>\n",
       "    .dataframe tbody tr th:only-of-type {\n",
       "        vertical-align: middle;\n",
       "    }\n",
       "\n",
       "    .dataframe tbody tr th {\n",
       "        vertical-align: top;\n",
       "    }\n",
       "\n",
       "    .dataframe thead th {\n",
       "        text-align: right;\n",
       "    }\n",
       "</style>\n",
       "<table border=\"1\" class=\"dataframe\">\n",
       "  <thead>\n",
       "    <tr style=\"text-align: right;\">\n",
       "      <th></th>\n",
       "      <th>lower count</th>\n",
       "      <th>upper count</th>\n",
       "    </tr>\n",
       "  </thead>\n",
       "  <tbody>\n",
       "    <tr>\n",
       "      <th>177</th>\n",
       "      <td>-3.710148</td>\n",
       "      <td>16.147998</td>\n",
       "    </tr>\n",
       "    <tr>\n",
       "      <th>178</th>\n",
       "      <td>6.946159</td>\n",
       "      <td>26.827978</td>\n",
       "    </tr>\n",
       "    <tr>\n",
       "      <th>179</th>\n",
       "      <td>-1.886210</td>\n",
       "      <td>18.007827</td>\n",
       "    </tr>\n",
       "    <tr>\n",
       "      <th>180</th>\n",
       "      <td>4.900250</td>\n",
       "      <td>24.767362</td>\n",
       "    </tr>\n",
       "    <tr>\n",
       "      <th>181</th>\n",
       "      <td>-3.497622</td>\n",
       "      <td>16.372964</td>\n",
       "    </tr>\n",
       "  </tbody>\n",
       "</table>\n",
       "</div>"
      ],
      "text/plain": [
       "     lower count  upper count\n",
       "177    -3.710148    16.147998\n",
       "178     6.946159    26.827978\n",
       "179    -1.886210    18.007827\n",
       "180     4.900250    24.767362\n",
       "181    -3.497622    16.372964"
      ]
     },
     "execution_count": 101,
     "metadata": {},
     "output_type": "execute_result"
    }
   ],
   "source": [
    "y_pred = SARIMAXmodel.get_forecast(len(test.index))\n",
    "y_pred_df = y_pred.conf_int(alpha = 0.05) \n",
    "\n",
    "y_pred_df.tail()"
   ]
  },
  {
   "cell_type": "code",
   "execution_count": 102,
   "id": "f3ec3abd",
   "metadata": {},
   "outputs": [
    {
     "data": {
      "text/plain": [
       "154     8.774182\n",
       "155    14.258582\n",
       "156     9.077555\n",
       "157    12.608846\n",
       "158     8.872972\n",
       "Name: Predictions, dtype: float64"
      ]
     },
     "execution_count": 102,
     "metadata": {},
     "output_type": "execute_result"
    }
   ],
   "source": [
    "y_pred_df[\"Predictions\"] = SARIMAXmodel.predict(start = y_pred_df.index[0], end = y_pred_df.index[-1])\n",
    "y_pred_df.index = test.index\n",
    "y_pred_out = y_pred_df[\"Predictions\"] \n",
    "\n",
    "y_pred_out.head()"
   ]
  },
  {
   "cell_type": "code",
   "execution_count": 103,
   "id": "ee1a2926",
   "metadata": {},
   "outputs": [
    {
     "name": "stderr",
     "output_type": "stream",
     "text": [
      "C:\\Users\\diego\\AppData\\Local\\Temp\\ipykernel_2488\\1907815612.py:2: SettingWithCopyWarning: \n",
      "A value is trying to be set on a copy of a slice from a DataFrame.\n",
      "Try using .loc[row_indexer,col_indexer] = value instead\n",
      "\n",
      "See the caveats in the documentation: https://pandas.pydata.org/pandas-docs/stable/user_guide/indexing.html#returning-a-view-versus-a-copy\n",
      "  prediction['prediction'] = y_pred_out\n"
     ]
    },
    {
     "data": {
      "text/html": [
       "<div>\n",
       "<style scoped>\n",
       "    .dataframe tbody tr th:only-of-type {\n",
       "        vertical-align: middle;\n",
       "    }\n",
       "\n",
       "    .dataframe tbody tr th {\n",
       "        vertical-align: top;\n",
       "    }\n",
       "\n",
       "    .dataframe thead th {\n",
       "        text-align: right;\n",
       "    }\n",
       "</style>\n",
       "<table border=\"1\" class=\"dataframe\">\n",
       "  <thead>\n",
       "    <tr style=\"text-align: right;\">\n",
       "      <th></th>\n",
       "      <th>fecha_evento</th>\n",
       "      <th>count</th>\n",
       "      <th>prediction</th>\n",
       "    </tr>\n",
       "  </thead>\n",
       "  <tbody>\n",
       "    <tr>\n",
       "      <th>178</th>\n",
       "      <td>2021-12-26</td>\n",
       "      <td>12</td>\n",
       "      <td>6.218925</td>\n",
       "    </tr>\n",
       "    <tr>\n",
       "      <th>179</th>\n",
       "      <td>2021-12-27</td>\n",
       "      <td>12</td>\n",
       "      <td>16.887068</td>\n",
       "    </tr>\n",
       "    <tr>\n",
       "      <th>180</th>\n",
       "      <td>2021-12-28</td>\n",
       "      <td>9</td>\n",
       "      <td>8.060809</td>\n",
       "    </tr>\n",
       "    <tr>\n",
       "      <th>181</th>\n",
       "      <td>2021-12-29</td>\n",
       "      <td>11</td>\n",
       "      <td>14.833806</td>\n",
       "    </tr>\n",
       "    <tr>\n",
       "      <th>182</th>\n",
       "      <td>2021-12-30</td>\n",
       "      <td>16</td>\n",
       "      <td>6.437671</td>\n",
       "    </tr>\n",
       "  </tbody>\n",
       "</table>\n",
       "</div>"
      ],
      "text/plain": [
       "    fecha_evento  count  prediction\n",
       "178   2021-12-26     12    6.218925\n",
       "179   2021-12-27     12   16.887068\n",
       "180   2021-12-28      9    8.060809\n",
       "181   2021-12-29     11   14.833806\n",
       "182   2021-12-30     16    6.437671"
      ]
     },
     "execution_count": 103,
     "metadata": {},
     "output_type": "execute_result"
    }
   ],
   "source": [
    "prediction = test\n",
    "prediction['prediction'] = y_pred_out\n",
    "\n",
    "prediction.tail()"
   ]
  },
  {
   "cell_type": "code",
   "execution_count": 104,
   "id": "c6d4290e",
   "metadata": {},
   "outputs": [
    {
     "data": {
      "text/plain": [
       "<matplotlib.legend.Legend at 0x2226152b6d0>"
      ]
     },
     "execution_count": 104,
     "metadata": {},
     "output_type": "execute_result"
    },
    {
     "data": {
      "image/png": "[encoded data removed]",
      "text/plain": [
       "<Figure size 640x480 with 1 Axes>"
      ]
     },
     "metadata": {},
     "output_type": "display_data"
    }
   ],
   "source": [
    "plt.plot(train['fecha_evento'], train['count'], color = \"black\", label = 'train')\n",
    "plt.plot(test['fecha_evento'], test['count'], color = \"red\", label = 'test')\n",
    "plt.plot(prediction['fecha_evento'], prediction['prediction'], color='Blue', label = 'SARIMA Predictions')\n",
    "plt.ylabel('Intrusiones')\n",
    "plt.xlabel('Fecha')\n",
    "plt.xticks(rotation=45)\n",
    "plt.title(\"Train/Test/prediction\")\n",
    "plt.legend()"
   ]
  },
  {
   "cell_type": "markdown",
   "id": "75ec0a5c",
   "metadata": {},
   "source": [
    "Despues de iterar defino que los mejores hiperparametros para este caso son:\n",
    "\n",
    "- order: (1, 0, 1)\n",
    "- seasonal_order: (2, 2, 2, 12)"
   ]
  },
  {
   "cell_type": "markdown",
   "id": "3466688b",
   "metadata": {},
   "source": [
    "Este tipo de modelos se evalua teniendo en cuenta el RMSE o error cuadratico medio. para calcularlo entonces:"
   ]
  },
  {
   "cell_type": "code",
   "execution_count": 107,
   "id": "17cd8ccb",
   "metadata": {},
   "outputs": [
    {
     "name": "stdout",
     "output_type": "stream",
     "text": [
      "RMSE:  6.446866912074032\n"
     ]
    }
   ],
   "source": [
    "import numpy as np\n",
    "from sklearn.metrics import mean_squared_error\n",
    "\n",
    "arma_rmse = np.sqrt(mean_squared_error(test[\"count\"].values, y_pred_df[\"Predictions\"]))\n",
    "print(\"RMSE: \",arma_rmse)"
   ]
  },
  {
   "cell_type": "markdown",
   "id": "d8508f16",
   "metadata": {},
   "source": [
    "En este caso y comparado con los valores que se estn trabajando, tener un RMSE de 6.44 significa tener un error considerable. Puede ser entre el 30% o 50% de error con respecto a las observacioens que se tienen.\n",
    "\n",
    "A pesar de ser un error considerable, el modelo funciona y tiene la capacidad de predecir con una desviación estandar pequeña comparado con la media real. Para mejorar el aquracy del modelo se recomienda iterar con diferentes valores los hiperparametros.\n",
    "\n",
    "Ademas de esto, se recomienda en este caso dar más claridad sobre el problema, proporcionando datos y una aclaración de los procesos que se llevan a cabo en este tipo de operación."
   ]
  },
  {
   "cell_type": "code",
   "execution_count": null,
   "id": "b6f103d9",
   "metadata": {},
   "outputs": [],
   "source": []
  }
 ],
 "metadata": {
  "kernelspec": {
   "display_name": "Python 3 (ipykernel)",
   "language": "python",
   "name": "python3"
  },
  "language_info": {
   "codemirror_mode": {
    "name": "ipython",
    "version": 3
   },
   "file_extension": ".py",
   "mimetype": "text/x-python",
   "name": "python",
   "nbconvert_exporter": "python",
   "pygments_lexer": "ipython3",
   "version": "3.10.8"
  }
 },
 "nbformat": 4,
 "nbformat_minor": 5
}
